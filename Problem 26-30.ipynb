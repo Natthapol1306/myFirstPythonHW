{
 "cells": [
  {
   "cell_type": "markdown",
   "metadata": {},
   "source": [
    "# Python Practice 26-30"
   ]
  },
  {
   "cell_type": "markdown",
   "metadata": {},
   "source": [
    "Natthapol Vingvorn 3 Oct 2020"
   ]
  },
  {
   "cell_type": "markdown",
   "metadata": {},
   "source": [
    "Problem 26"
   ]
  },
  {
   "cell_type": "code",
   "execution_count": 2,
   "metadata": {},
   "outputs": [
    {
     "name": "stdout",
     "output_type": "stream",
     "text": [
      "1\n",
      "4\n"
     ]
    }
   ],
   "source": [
    "a = [1,2,3,4]\n",
    "def mn(a) :\n",
    "    mn = a[0]\n",
    "    for i in range(0,len(a)) :\n",
    "        if mn > a[i] :\n",
    "            mn = a[i]\n",
    "    return(mn)\n",
    "print(mn(a))\n",
    "def mx(a) :\n",
    "    mx = a[0]\n",
    "    for i in range(0,len(a)) :\n",
    "        if mx < a[i] :\n",
    "            mx = a[i]\n",
    "    return(mx)\n",
    "print(mx(a))"
   ]
  },
  {
   "cell_type": "markdown",
   "metadata": {},
   "source": [
    "Problem 27"
   ]
  },
  {
   "cell_type": "code",
   "execution_count": 8,
   "metadata": {},
   "outputs": [],
   "source": [
    "x = [3,4,5,6]\n",
    "y = [7,8,9,10]\n",
    "z = [\"a\",\"b\",\"c\",\"d\"]"
   ]
  },
  {
   "cell_type": "code",
   "execution_count": 12,
   "metadata": {},
   "outputs": [],
   "source": [
    "def cumulativeSum(listIn) :\n",
    "    cumuValue = listIn[0]\n",
    "    cumList = []\n",
    "    cumList.append(cumuValue)\n",
    "    for i in range(1,len(listIn)) :\n",
    "        cumuValue = cumuValue + listIn[i]\n",
    "        cumList.append(cumuValue)\n",
    "    return cumList"
   ]
  },
  {
   "cell_type": "code",
   "execution_count": 13,
   "metadata": {},
   "outputs": [
    {
     "data": {
      "text/plain": [
       "[3, 7, 12, 18]"
      ]
     },
     "execution_count": 13,
     "metadata": {},
     "output_type": "execute_result"
    }
   ],
   "source": [
    "cumulativeSum(x)"
   ]
  },
  {
   "cell_type": "code",
   "execution_count": 14,
   "metadata": {},
   "outputs": [
    {
     "data": {
      "text/plain": [
       "[7, 15, 24, 34]"
      ]
     },
     "execution_count": 14,
     "metadata": {},
     "output_type": "execute_result"
    }
   ],
   "source": [
    "cumulativeSum(y)"
   ]
  },
  {
   "cell_type": "code",
   "execution_count": 15,
   "metadata": {},
   "outputs": [
    {
     "data": {
      "text/plain": [
       "['a', 'ab', 'abc', 'abcd']"
      ]
     },
     "execution_count": 15,
     "metadata": {},
     "output_type": "execute_result"
    }
   ],
   "source": [
    "cumulativeSum(z)"
   ]
  },
  {
   "cell_type": "markdown",
   "metadata": {},
   "source": [
    "Problem 28"
   ]
  },
  {
   "cell_type": "code",
   "execution_count": 22,
   "metadata": {},
   "outputs": [],
   "source": [
    "x = [77,88,45,66]\n",
    "y = [788,98,89,140]\n",
    "z = [\"a\",\"b\",\"c\",\"d\"]"
   ]
  },
  {
   "cell_type": "code",
   "execution_count": 23,
   "metadata": {},
   "outputs": [],
   "source": [
    "def cumulativeProduct(listIn) :\n",
    "    cumuValue = listIn[0]\n",
    "    cumList = []\n",
    "    cumList.append(cumuValue)\n",
    "    for i in range(1,len(listIn)) :\n",
    "        cumuValue = cumuValue * listIn[i]\n",
    "        cumList.append(cumuValue)\n",
    "    return cumList"
   ]
  },
  {
   "cell_type": "code",
   "execution_count": 24,
   "metadata": {},
   "outputs": [
    {
     "data": {
      "text/plain": [
       "[77, 165, 210, 276]"
      ]
     },
     "execution_count": 24,
     "metadata": {},
     "output_type": "execute_result"
    }
   ],
   "source": [
    "cumulativeSum(x)"
   ]
  },
  {
   "cell_type": "code",
   "execution_count": 25,
   "metadata": {},
   "outputs": [
    {
     "data": {
      "text/plain": [
       "[788, 886, 975, 1115]"
      ]
     },
     "execution_count": 25,
     "metadata": {},
     "output_type": "execute_result"
    }
   ],
   "source": [
    "cumulativeSum(y)"
   ]
  },
  {
   "cell_type": "code",
   "execution_count": 26,
   "metadata": {},
   "outputs": [
    {
     "data": {
      "text/plain": [
       "['a', 'ab', 'abc', 'abcd']"
      ]
     },
     "execution_count": 26,
     "metadata": {},
     "output_type": "execute_result"
    }
   ],
   "source": [
    "cumulativeSum(z)"
   ]
  },
  {
   "cell_type": "markdown",
   "metadata": {},
   "source": [
    "Problem 29"
   ]
  },
  {
   "cell_type": "code",
   "execution_count": 44,
   "metadata": {},
   "outputs": [],
   "source": [
    "def unqiue(listIn) :\n",
    "    UnqValue = listIn[0]\n",
    "    UnqList = []\n",
    "    UnqList.append(UnqValue)\n",
    "    for i in range(1,len(listIn)) :\n",
    "        uniqueCheck = 0\n",
    "        UnqValue = listIn[i]\n",
    "        for j in UnqList :\n",
    "            if j == UnqValue :\n",
    "                uniqueCheck = 1\n",
    "        if uniqueCheck == 0 :\n",
    "            UnqList.append(UnqValue)\n",
    "    return UnqList"
   ]
  },
  {
   "cell_type": "code",
   "execution_count": 45,
   "metadata": {},
   "outputs": [
    {
     "data": {
      "text/plain": [
       "[1, 2, 3, 5]"
      ]
     },
     "execution_count": 45,
     "metadata": {},
     "output_type": "execute_result"
    }
   ],
   "source": [
    "unqiue([1,2,1,3,2,5])"
   ]
  },
  {
   "cell_type": "markdown",
   "metadata": {},
   "source": [
    "Problem 30"
   ]
  },
  {
   "cell_type": "code",
   "execution_count": 49,
   "metadata": {},
   "outputs": [],
   "source": [
    "def dups(listIn) :\n",
    "    dupValue = listIn[0]\n",
    "    dupList = []\n",
    "    dupList.append(dupValue)\n",
    "    for i in range(1,len(listIn)) :\n",
    "        dupsCheck = 0\n",
    "        dupValue = listIn[i]\n",
    "        for j in dupList :\n",
    "            if j == dupValue :\n",
    "                dupsCheck = 1\n",
    "        if dupsCheck == 0 :\n",
    "           dupList.append(dupValue)\n",
    "    return dupList"
   ]
  },
  {
   "cell_type": "code",
   "execution_count": 50,
   "metadata": {},
   "outputs": [
    {
     "data": {
      "text/plain": [
       "[89, 5, 69, 55, 99, 88]"
      ]
     },
     "execution_count": 50,
     "metadata": {},
     "output_type": "execute_result"
    }
   ],
   "source": [
    "dups([89,5,69,55,99,88])"
   ]
  }
 ],
 "metadata": {
  "kernelspec": {
   "display_name": "Python 3",
   "language": "python",
   "name": "python3"
  },
  "language_info": {
   "codemirror_mode": {
    "name": "ipython",
    "version": 3
   },
   "file_extension": ".py",
   "mimetype": "text/x-python",
   "name": "python",
   "nbconvert_exporter": "python",
   "pygments_lexer": "ipython3",
   "version": "3.6.8"
  }
 },
 "nbformat": 4,
 "nbformat_minor": 4
}
